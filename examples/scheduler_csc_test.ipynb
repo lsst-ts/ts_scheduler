{
 "cells": [
  {
   "cell_type": "code",
   "execution_count": 1,
   "metadata": {},
   "outputs": [],
   "source": [
    "from lsst.ts.scheduler import Scheduler_CSC"
   ]
  },
  {
   "cell_type": "code",
   "execution_count": 2,
   "metadata": {
    "scrolled": true
   },
   "outputs": [
    {
     "name": "stderr",
     "output_type": "stream",
     "text": [
      "[2018-07-05 16:48:16] [INFO] importing SALPY_scheduler\n",
      "[2018-07-05 16:48:23] [DEBUG] Initializing: scheduler_logevent_SummaryState\n",
      "[2018-07-05 16:48:23] [INFO] SALPY_scheduler is already in globals\n",
      "[2018-07-05 16:48:23] [DEBUG] Initializing: scheduler_logevent_SummaryState\n",
      "[2018-07-05 16:48:23] [INFO] SALPY_scheduler is already in globals\n",
      "[2018-07-05 16:48:23] [DEBUG] Initializing: scheduler_logevent_SummaryState\n",
      "[2018-07-05 16:48:24] [INFO] SALPY_scheduler is already in globals\n",
      "[2018-07-05 16:48:24] [DEBUG] Initializing: scheduler_logevent_SummaryState\n",
      "[2018-07-05 16:48:24] [INFO] SALPY_scheduler is already in globals\n",
      "[2018-07-05 16:48:24] [DEBUG] Initializing: scheduler_logevent_SummaryState\n",
      "[2018-07-05 16:48:24] [DEBUG] scheduler Init beginning\n",
      "[2018-07-05 16:48:24] [DEBUG] Starting with default state: OFFLINE\n",
      "[2018-07-05 16:48:24] [INFO] scheduler controller ready for topic: scheduler_command_enterControl\n",
      "[2018-07-05 16:48:24] [INFO] scheduler controller ready for topic: scheduler_command_start\n",
      "[2018-07-05 16:48:24] [INFO] scheduler controller ready for topic: scheduler_command_enable\n",
      "[2018-07-05 16:48:24] [INFO] scheduler controller ready for topic: scheduler_command_disable\n",
      "[2018-07-05 16:48:24] [INFO] scheduler controller ready for topic: scheduler_command_standby\n",
      "[2018-07-05 16:48:24] [INFO] scheduler controller ready for topic: scheduler_command_exitControl\n"
     ]
    },
    {
     "name": "stdout",
     "output_type": "stream",
     "text": [
      "Standby: do not implemented\n"
     ]
    }
   ],
   "source": [
    "sc = Scheduler_CSC()"
   ]
  },
  {
   "cell_type": "code",
   "execution_count": 3,
   "metadata": {},
   "outputs": [
    {
     "data": {
      "text/plain": [
       "'STANDBY'"
      ]
     },
     "execution_count": 3,
     "metadata": {},
     "output_type": "execute_result"
    },
    {
     "name": "stdout",
     "output_type": "stream",
     "text": [
      "Standby: exit not implemented\n",
      "Disabled: do not implemented\n"
     ]
    }
   ],
   "source": [
    "sc.model.state"
   ]
  },
  {
   "cell_type": "code",
   "execution_count": 4,
   "metadata": {},
   "outputs": [
    {
     "data": {
      "text/plain": [
       "'DISABLED'"
      ]
     },
     "execution_count": 4,
     "metadata": {},
     "output_type": "execute_result"
    },
    {
     "name": "stdout",
     "output_type": "stream",
     "text": [
      "Disabled: exit not implemented\n",
      "DOING STUFF\n",
      "Thread #None started\n",
      "Producing targets...\n",
      "Producing targets...\n",
      "Producing targets...\n",
      "Producing targets...\n",
      "Producing targets...\n",
      "Producing targets...\n",
      "Producing targets...\n",
      "Producing targets...\n",
      "Producing targets...\n",
      "Producing targets...\n",
      "Producing targets...\n",
      "Producing targets...\n",
      "Producing targets...\n",
      "Producing targets...\n",
      "Producing targets...\n",
      "Producing targets...\n",
      "Producing targets...\n",
      "Producing targets...\n",
      "Producing targets...\n",
      "Producing targets...\n",
      "Producing targets...\n",
      "Producing targets...\n",
      "Producing targets...\n",
      "Producing targets...\n",
      "Producing targets...\n",
      "Producing targets...\n",
      "Producing targets...\n",
      "Producing targets...\n",
      "Producing targets...\n",
      "Producing targets...\n",
      "Producing targets...\n",
      "Producing targets...\n",
      "Producing targets...\n",
      "Producing targets...\n",
      "Producing targets...\n",
      "Producing targets...\n",
      "Producing targets...\n",
      "Producing targets...\n",
      "Producing targets...\n",
      "Producing targets...\n",
      "Producing targets...\n",
      "Producing targets...\n",
      "Producing targets...\n",
      "Producing targets...\n",
      "Producing targets...\n",
      "Producing targets...\n",
      "Producing targets...\n",
      "Producing targets...\n",
      "Producing targets...\n",
      "Producing targets...\n",
      "Producing targets...\n",
      "Producing targets...\n",
      "Producing targets...\n",
      "Producing targets...\n",
      "Producing targets...\n",
      "Producing targets...\n",
      "Producing targets...\n",
      "Producing targets...\n",
      "Producing targets...\n",
      "Producing targets...\n",
      "Producing targets...\n",
      "Producing targets...\n",
      "Producing targets...\n",
      "Producing targets...\n",
      "Producing targets...\n",
      "Producing targets...\n",
      "Producing targets...\n",
      "Producing targets...\n",
      "Producing targets...\n",
      "Producing targets...\n",
      "Producing targets...\n",
      "Producing targets...\n",
      "Producing targets...\n",
      "Producing targets...\n",
      "Producing targets...\n",
      "Producing targets...\n",
      "Producing targets...\n",
      "Producing targets...\n",
      "Producing targets...\n",
      "Producing targets...\n",
      "Producing targets...\n",
      "Producing targets...\n",
      "Producing targets...\n",
      "Producing targets...\n",
      "Producing targets...\n",
      "Producing targets...\n",
      "Producing targets...\n",
      "Producing targets...\n",
      "Producing targets...\n",
      "Producing targets...\n",
      "Producing targets...\n",
      "Producing targets...\n",
      "Producing targets...\n",
      "Producing targets...\n",
      "Producing targets...\n",
      "Producing targets...\n",
      "Producing targets...\n",
      "Producing targets...\n",
      "Producing targets...\n",
      "Producing targets...\n",
      "Producing targets...\n",
      "Producing targets...\n",
      "Producing targets...\n",
      "Producing targets...\n",
      "Producing targets...\n",
      "Producing targets...\n",
      "Producing targets...\n",
      "Producing targets...\n",
      "Disabled: do not implemented\n",
      "Have been commanded to stop, save relevent information\n",
      "Thread #None stopped\n"
     ]
    }
   ],
   "source": [
    "sc.model.state"
   ]
  },
  {
   "cell_type": "code",
   "execution_count": 5,
   "metadata": {},
   "outputs": [
    {
     "data": {
      "text/plain": [
       "'DISABLED'"
      ]
     },
     "execution_count": 5,
     "metadata": {},
     "output_type": "execute_result"
    },
    {
     "name": "stdout",
     "output_type": "stream",
     "text": [
      "Disabled: exit not implemented\n"
     ]
    },
    {
     "name": "stderr",
     "output_type": "stream",
     "text": [
      "Exception in thread Thread-5:\n",
      "Traceback (most recent call last):\n",
      "  File \"/home/aheyer/miniconda3/lib/python3.6/threading.py\", line 916, in _bootstrap_inner\n",
      "    self.run()\n",
      "  File \"/home/aheyer/py3-opsim/gitdir/salpytools/python/salpytools/salpylib.py\", line 289, in run\n",
      "    self.run_command()\n",
      "  File \"/home/aheyer/py3-opsim/gitdir/salpytools/python/salpytools/salpylib.py\", line 295, in run_command\n",
      "    self.reply_to_transition(cmdId)\n",
      "  File \"/home/aheyer/py3-opsim/gitdir/salpytools/python/salpytools/salpylib.py\", line 313, in reply_to_transition\n",
      "    self.context.execute_command(self.COMMAND)\n",
      "  File \"/home/aheyer/py3-opsim/gitdir/salpytools/python/salpytools/salpylib.py\", line 163, in execute_command\n",
      "    current_state.enter_control(self.model)\n",
      "  File \"/home/aheyer/py3-opsim/gitdir/salpytools/python/salpytools/states.py\", line 185, in enter_control\n",
      "    raise StateTransitionException()\n",
      "salpytools.state_transition_exception.StateTransitionException\n",
      "\n"
     ]
    },
    {
     "name": "stdout",
     "output_type": "stream",
     "text": [
      "Disabled: exit not implemented\n"
     ]
    },
    {
     "name": "stderr",
     "output_type": "stream",
     "text": [
      "Exception in thread Thread-6:\n",
      "Traceback (most recent call last):\n",
      "  File \"/home/aheyer/miniconda3/lib/python3.6/threading.py\", line 916, in _bootstrap_inner\n",
      "    self.run()\n",
      "  File \"/home/aheyer/py3-opsim/gitdir/salpytools/python/salpytools/salpylib.py\", line 289, in run\n",
      "    while True:\n",
      "  File \"/home/aheyer/py3-opsim/gitdir/salpytools/python/salpytools/salpylib.py\", line 295, in run_command\n",
      "  File \"/home/aheyer/py3-opsim/gitdir/salpytools/python/salpytools/salpylib.py\", line 313, in reply_to_transition\n",
      "    \"\"\"\n",
      "  File \"/home/aheyer/py3-opsim/gitdir/salpytools/python/salpytools/salpylib.py\", line 172, in execute_command\n",
      "    current_state.start(self.model)\n",
      "  File \"/home/aheyer/py3-opsim/gitdir/salpytools/python/salpytools/states.py\", line 182, in start\n",
      "    def __init__(self, subsystem_tag, events=('SummaryState',), tsleep=0.5):\n",
      "salpytools.state_transition_exception.StateTransitionException\n",
      "\n"
     ]
    },
    {
     "name": "stdout",
     "output_type": "stream",
     "text": [
      "Disabled: exit not implemented\n",
      "DOING STUFF\n",
      "Thread #None started\n",
      "Have been commanded to stop, save relevent information\n",
      "Thread #None stopped\n",
      "Disabled: do not implemented\n",
      "Disabled: exit not implemented\n",
      "Standby: do not implemented\n",
      "Standby: exit not implemented\n",
      "Offline: do not implemented\n"
     ]
    },
    {
     "name": "stderr",
     "output_type": "stream",
     "text": [
      "Exception in thread Thread-7:\n",
      "Traceback (most recent call last):\n",
      "  File \"/home/aheyer/miniconda3/lib/python3.6/threading.py\", line 916, in _bootstrap_inner\n",
      "    self.run()\n",
      "  File \"/home/aheyer/py3-opsim/gitdir/salpytools/python/salpytools/salpylib.py\", line 289, in run\n",
      "    while True:\n",
      "  File \"/home/aheyer/py3-opsim/gitdir/salpytools/python/salpytools/salpylib.py\", line 295, in run_command\n",
      "  File \"/home/aheyer/py3-opsim/gitdir/salpytools/python/salpytools/salpylib.py\", line 313, in reply_to_transition\n",
      "    \"\"\"\n",
      "  File \"/home/aheyer/py3-opsim/gitdir/salpytools/python/salpytools/salpylib.py\", line 179, in execute_command\n",
      "    current_state.enable(self.model)\n",
      "  File \"/home/aheyer/py3-opsim/gitdir/salpytools/python/salpytools/states.py\", line 173, in enable\n",
      "salpytools.state_transition_exception.StateTransitionException\n",
      "\n",
      "Exception in thread Thread-8:\n",
      "Traceback (most recent call last):\n",
      "  File \"/home/aheyer/miniconda3/lib/python3.6/threading.py\", line 916, in _bootstrap_inner\n",
      "    self.run()\n",
      "  File \"/home/aheyer/py3-opsim/gitdir/salpytools/python/salpytools/salpylib.py\", line 289, in run\n",
      "    while True:\n",
      "  File \"/home/aheyer/py3-opsim/gitdir/salpytools/python/salpytools/salpylib.py\", line 295, in run_command\n",
      "  File \"/home/aheyer/py3-opsim/gitdir/salpytools/python/salpytools/salpylib.py\", line 313, in reply_to_transition\n",
      "    \"\"\"\n",
      "  File \"/home/aheyer/py3-opsim/gitdir/salpytools/python/salpytools/salpylib.py\", line 186, in execute_command\n",
      "    current_state.disable(self.model)\n",
      "  File \"/home/aheyer/py3-opsim/gitdir/salpytools/python/salpytools/states.py\", line 170, in disable\n",
      "salpytools.state_transition_exception.StateTransitionException\n",
      "\n",
      "Exception in thread Thread-9:\n",
      "Traceback (most recent call last):\n",
      "  File \"/home/aheyer/miniconda3/lib/python3.6/threading.py\", line 916, in _bootstrap_inner\n",
      "    self.run()\n",
      "  File \"/home/aheyer/py3-opsim/gitdir/salpytools/python/salpytools/salpylib.py\", line 289, in run\n",
      "    while True:\n",
      "  File \"/home/aheyer/py3-opsim/gitdir/salpytools/python/salpytools/salpylib.py\", line 295, in run_command\n",
      "  File \"/home/aheyer/py3-opsim/gitdir/salpytools/python/salpytools/salpylib.py\", line 313, in reply_to_transition\n",
      "    \"\"\"\n",
      "  File \"/home/aheyer/py3-opsim/gitdir/salpytools/python/salpytools/salpylib.py\", line 193, in execute_command\n",
      "    current_state.standby(self.model)\n",
      "  File \"/home/aheyer/py3-opsim/gitdir/salpytools/python/salpytools/states.py\", line 179, in standby\n",
      "salpytools.state_transition_exception.StateTransitionException\n",
      "\n",
      "Exception in thread Thread-10:\n",
      "Traceback (most recent call last):\n",
      "  File \"/home/aheyer/miniconda3/lib/python3.6/threading.py\", line 916, in _bootstrap_inner\n",
      "    self.run()\n",
      "  File \"/home/aheyer/py3-opsim/gitdir/salpytools/python/salpytools/salpylib.py\", line 289, in run\n",
      "    while True:\n",
      "  File \"/home/aheyer/py3-opsim/gitdir/salpytools/python/salpytools/salpylib.py\", line 295, in run_command\n",
      "  File \"/home/aheyer/py3-opsim/gitdir/salpytools/python/salpytools/salpylib.py\", line 313, in reply_to_transition\n",
      "    \"\"\"\n",
      "  File \"/home/aheyer/py3-opsim/gitdir/salpytools/python/salpytools/salpylib.py\", line 200, in execute_command\n",
      "    current_state.exit_control(self.model)\n",
      "  File \"/home/aheyer/py3-opsim/gitdir/salpytools/python/salpytools/states.py\", line 176, in exit_control\n",
      "salpytools.state_transition_exception.StateTransitionException\n",
      "\n"
     ]
    }
   ],
   "source": [
    "sc.model.state"
   ]
  },
  {
   "cell_type": "code",
   "execution_count": null,
   "metadata": {},
   "outputs": [],
   "source": [
    "sc.model.state"
   ]
  }
 ],
 "metadata": {
  "kernelspec": {
   "display_name": "Python 3",
   "language": "python",
   "name": "python3"
  },
  "language_info": {
   "codemirror_mode": {
    "name": "ipython",
    "version": 3
   },
   "file_extension": ".py",
   "mimetype": "text/x-python",
   "name": "python",
   "nbconvert_exporter": "python",
   "pygments_lexer": "ipython3",
   "version": "3.6.3"
  }
 },
 "nbformat": 4,
 "nbformat_minor": 2
}

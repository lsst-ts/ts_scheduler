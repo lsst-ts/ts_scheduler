{
 "cells": [
  {
   "cell_type": "code",
   "execution_count": 1,
   "metadata": {},
   "outputs": [],
   "source": [
    "\"\"\"This notebook creates Scheduler_CSC object. This runs all threaded objects within which are subscribed to\n",
    "commands to begin listening.\"\"\"\n",
    "\n",
    "from lsst.ts.scheduler import Scheduler_CSC\n",
    "sc = Scheduler_CSC()"
   ]
  },
  {
   "cell_type": "code",
   "execution_count": 2,
   "metadata": {},
   "outputs": [
    {
     "data": {
      "text/plain": [
       "'OFFLINE'"
      ]
     },
     "execution_count": 2,
     "metadata": {},
     "output_type": "execute_result"
    },
    {
     "name": "stdout",
     "output_type": "stream",
     "text": [
      "<lsst.ts.scheduler.stateMachine.states.StandbyState object at 0x7f5cdc0a4978>\n"
     ]
    }
   ],
   "source": [
    "# First, or CSC should default to 'Offline` state. You should also see a validSettings event\n",
    "# assuming we did not override this behavior and you have an eventLogger for validSetting running.\n",
    "sc.model.state"
   ]
  },
  {
   "cell_type": "code",
   "execution_count": 3,
   "metadata": {},
   "outputs": [
    {
     "data": {
      "text/plain": [
       "'STANDBY'"
      ]
     },
     "execution_count": 3,
     "metadata": {},
     "output_type": "execute_result"
    },
    {
     "name": "stdout",
     "output_type": "stream",
     "text": [
      "<lsst.ts.scheduler.stateMachine.states.DisabledState object at 0x7f5cc0a4a518>\n"
     ]
    }
   ],
   "source": [
    "# Send a enterControl command, state should transition into standby.\n",
    "sc.model.state"
   ]
  },
  {
   "cell_type": "code",
   "execution_count": null,
   "metadata": {},
   "outputs": [],
   "source": [
    "# Send a start command, state should transition into disabled.\n",
    "sc.model.state"
   ]
  },
  {
   "cell_type": "code",
   "execution_count": null,
   "metadata": {},
   "outputs": [],
   "source": [
    "# Send a enable command, state should transition into enabled. You should also see target events being sent\n",
    "# assuming we did not override this behavior.\n",
    "sc.model.state"
   ]
  },
  {
   "cell_type": "code",
   "execution_count": null,
   "metadata": {},
   "outputs": [],
   "source": [
    "# Send a disable command, state should transition into disabled.\n",
    "sc.model.state"
   ]
  },
  {
   "cell_type": "code",
   "execution_count": null,
   "metadata": {},
   "outputs": [],
   "source": [
    "# Send a standby command, state should transition into standby.\n",
    "sc.model.state"
   ]
  },
  {
   "cell_type": "code",
   "execution_count": null,
   "metadata": {},
   "outputs": [],
   "source": [
    "# Send a exitControl command, state should transition into offline.\n",
    "sc.model.state"
   ]
  }
 ],
 "metadata": {
  "kernelspec": {
   "display_name": "Python 3",
   "language": "python",
   "name": "python3"
  },
  "language_info": {
   "codemirror_mode": {
    "name": "ipython",
    "version": 3
   },
   "file_extension": ".py",
   "mimetype": "text/x-python",
   "name": "python",
   "nbconvert_exporter": "python",
   "pygments_lexer": "ipython3",
   "version": "3.6.3"
  }
 },
 "nbformat": 4,
 "nbformat_minor": 2
}

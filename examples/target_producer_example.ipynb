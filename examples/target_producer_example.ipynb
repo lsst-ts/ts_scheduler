{
 "cells": [
  {
   "cell_type": "code",
   "execution_count": 1,
   "metadata": {},
   "outputs": [],
   "source": [
    "from lsst.ts.scheduler.stateMachine import *"
   ]
  },
  {
   "cell_type": "code",
   "execution_count": 2,
   "metadata": {},
   "outputs": [],
   "source": [
    "a = TargetProducer()"
   ]
  },
  {
   "cell_type": "code",
   "execution_count": 3,
   "metadata": {},
   "outputs": [
    {
     "name": "stderr",
     "output_type": "stream",
     "text": [
      "[2018-07-20 08:52:01] [INFO] run: Target production started\n",
      "[2018-07-20 08:52:01] [INFO] run: Producing Targets\n",
      "[2018-07-20 08:52:01] [INFO] run: Producing Targets\n",
      "[2018-07-20 08:52:02] [INFO] run: Producing Targets\n",
      "[2018-07-20 08:52:02] [INFO] run: Producing Targets\n",
      "[2018-07-20 08:52:03] [INFO] run: Producing Targets\n",
      "[2018-07-20 08:52:03] [INFO] run: Producing Targets\n",
      "[2018-07-20 08:52:04] [INFO] run: Producing Targets\n",
      "[2018-07-20 08:52:04] [INFO] run: Producing Targets\n",
      "[2018-07-20 08:52:05] [INFO] run: Producing Targets\n"
     ]
    }
   ],
   "source": [
    "a.produce_targets()"
   ]
  },
  {
   "cell_type": "code",
   "execution_count": 4,
   "metadata": {
    "scrolled": true
   },
   "outputs": [
    {
     "name": "stderr",
     "output_type": "stream",
     "text": [
      "[2018-07-20 08:52:05] [INFO] run: Target production paused\n"
     ]
    }
   ],
   "source": [
    "a.pause()"
   ]
  },
  {
   "cell_type": "code",
   "execution_count": 5,
   "metadata": {},
   "outputs": [
    {
     "name": "stderr",
     "output_type": "stream",
     "text": [
      "[2018-07-20 08:52:06] [INFO] run: Target production resumed\n",
      "[2018-07-20 08:52:06] [INFO] run: Producing Targets\n",
      "[2018-07-20 08:52:07] [INFO] run: Producing Targets\n",
      "[2018-07-20 08:52:07] [INFO] run: Producing Targets\n",
      "[2018-07-20 08:52:08] [INFO] run: Producing Targets\n",
      "[2018-07-20 08:52:08] [INFO] run: Producing Targets\n",
      "[2018-07-20 08:52:09] [INFO] run: Producing Targets\n",
      "[2018-07-20 08:52:09] [INFO] run: Producing Targets\n"
     ]
    }
   ],
   "source": [
    "a.produce_targets()"
   ]
  },
  {
   "cell_type": "code",
   "execution_count": 6,
   "metadata": {},
   "outputs": [
    {
     "name": "stderr",
     "output_type": "stream",
     "text": [
      "[2018-07-20 08:52:09] [INFO] run: Target production paused\n"
     ]
    }
   ],
   "source": [
    "a.pause()"
   ]
  },
  {
   "cell_type": "code",
   "execution_count": 7,
   "metadata": {},
   "outputs": [
    {
     "name": "stderr",
     "output_type": "stream",
     "text": [
      "[2018-07-20 08:52:12] [INFO] run: Target production resumed\n",
      "[2018-07-20 08:52:12] [INFO] run: Producing Targets\n",
      "[2018-07-20 08:52:12] [INFO] run: Producing Targets\n",
      "[2018-07-20 08:52:13] [INFO] run: Producing Targets\n",
      "[2018-07-20 08:52:13] [INFO] run: Producing Targets\n",
      "[2018-07-20 08:52:14] [INFO] run: Producing Targets\n"
     ]
    }
   ],
   "source": [
    "a.produce_targets()"
   ]
  },
  {
   "cell_type": "code",
   "execution_count": 8,
   "metadata": {
    "scrolled": true
   },
   "outputs": [
    {
     "name": "stderr",
     "output_type": "stream",
     "text": [
      "[2018-07-20 08:52:14] [INFO] run: Target production paused\n"
     ]
    }
   ],
   "source": [
    "a.pause()"
   ]
  },
  {
   "cell_type": "code",
   "execution_count": null,
   "metadata": {},
   "outputs": [],
   "source": []
  }
 ],
 "metadata": {
  "kernelspec": {
   "display_name": "Python 3",
   "language": "python",
   "name": "python3"
  },
  "language_info": {
   "codemirror_mode": {
    "name": "ipython",
    "version": 3
   },
   "file_extension": ".py",
   "mimetype": "text/x-python",
   "name": "python",
   "nbconvert_exporter": "python",
   "pygments_lexer": "ipython3",
   "version": "3.6.3"
  }
 },
 "nbformat": 4,
 "nbformat_minor": 2
}
